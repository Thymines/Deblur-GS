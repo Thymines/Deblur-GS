{
 "cells": [
  {
   "cell_type": "code",
   "execution_count": 1,
   "metadata": {},
   "outputs": [],
   "source": [
    "import socket\n",
    "\n",
    "def check_socket_open(hostname, port):\n",
    "    s = socket.socket(socket.AF_INET, socket.SOCK_STREAM)\n",
    "    is_open = False\n",
    "    try:\n",
    "        s.bind((hostname, port))\n",
    "    except socket.error:\n",
    "        is_open = True\n",
    "    finally:\n",
    "        s.close()\n",
    "    return is_open\n"
   ]
  },
  {
   "cell_type": "code",
   "execution_count": null,
   "metadata": {},
   "outputs": [],
   "source": [
    "check_socket_open(\"127.0.0.1\",8097)"
   ]
  },
  {
   "cell_type": "code",
   "execution_count": 4,
   "metadata": {},
   "outputs": [],
   "source": [
    "import os\n",
    "import shutil\n",
    "\n",
    "root = r'D:\\hololens_output\\2024-05-23-124925\\with_colmap\\images'\n",
    "dest = r'D:\\hololens_output\\2024-05-23-124925\\with_colmap_subset\\images'\n",
    "\n",
    "files = os.listdir(root)\n",
    "\n",
    "files = [ file for id, file in enumerate(files)if id % 5 == 0 ]\n",
    "\n",
    "for file in files:\n",
    "    shutil.copy2(os.path.join(root,file),os.path.join(dest,file))\n",
    "\n"
   ]
  }
 ],
 "metadata": {
  "kernelspec": {
   "display_name": "gaussian-splatting",
   "language": "python",
   "name": "python3"
  },
  "language_info": {
   "codemirror_mode": {
    "name": "ipython",
    "version": 3
   },
   "file_extension": ".py",
   "mimetype": "text/x-python",
   "name": "python",
   "nbconvert_exporter": "python",
   "pygments_lexer": "ipython3",
   "version": "3.11.7"
  }
 },
 "nbformat": 4,
 "nbformat_minor": 2
}
